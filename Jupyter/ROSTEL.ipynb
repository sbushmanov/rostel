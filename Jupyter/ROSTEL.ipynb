{
 "cells": [
  {
   "cell_type": "markdown",
   "id": "386f7a48",
   "metadata": {
    "toc": true
   },
   "source": [
    "<h1>Table of Contents<span class=\"tocSkip\"></span></h1>\n",
    "<div class=\"toc\"><ul class=\"toc-item\"><li><span><a href=\"#SparkSession\" data-toc-modified-id=\"SparkSession-1\"><span class=\"toc-item-num\">1&nbsp;&nbsp;</span>SparkSession</a></span></li><li><span><a href=\"#Sanity-checks\" data-toc-modified-id=\"Sanity-checks-2\"><span class=\"toc-item-num\">2&nbsp;&nbsp;</span>Sanity checks</a></span></li><li><span><a href=\"#Load-data\" data-toc-modified-id=\"Load-data-3\"><span class=\"toc-item-num\">3&nbsp;&nbsp;</span>Load data</a></span></li><li><span><a href=\"#Tables\" data-toc-modified-id=\"Tables-4\"><span class=\"toc-item-num\">4&nbsp;&nbsp;</span>Tables</a></span><ul class=\"toc-item\"><li><span><a href=\"#mrf\" data-toc-modified-id=\"mrf-4.1\"><span class=\"toc-item-num\">4.1&nbsp;&nbsp;</span>mrf</a></span></li><li><span><a href=\"#First-login\" data-toc-modified-id=\"First-login-4.2\"><span class=\"toc-item-num\">4.2&nbsp;&nbsp;</span>First login</a></span></li><li><span><a href=\"#Most-popular-category\" data-toc-modified-id=\"Most-popular-category-4.3\"><span class=\"toc-item-num\">4.3&nbsp;&nbsp;</span>Most popular category</a></span></li></ul></li><li><span><a href=\"#Metrics\" data-toc-modified-id=\"Metrics-5\"><span class=\"toc-item-num\">5&nbsp;&nbsp;</span>Metrics</a></span></li><li><span><a href=\"#Result\" data-toc-modified-id=\"Result-6\"><span class=\"toc-item-num\">6&nbsp;&nbsp;</span>Result</a></span></li></ul></div>"
   ]
  },
  {
   "cell_type": "code",
   "execution_count": 1,
   "id": "3489aeb5",
   "metadata": {
    "ExecuteTime": {
     "end_time": "2021-09-28T11:53:03.991146Z",
     "start_time": "2021-09-28T11:52:58.202Z"
    }
   },
   "outputs": [
    {
     "data": {
      "text/plain": [
       "\u001b[32mimport \u001b[39m\u001b[36m$ivy.$                                   \n",
       "\u001b[39m\n",
       "\u001b[32mimport \u001b[39m\u001b[36m$ivy.$                                  \n",
       "\u001b[39m\n",
       "\u001b[32mimport \u001b[39m\u001b[36m$ivy.$                                   \n",
       "\u001b[39m\n",
       "\u001b[32mimport \u001b[39m\u001b[36m$ivy.$                                    \u001b[39m"
      ]
     },
     "execution_count": 1,
     "metadata": {},
     "output_type": "execute_result"
    }
   ],
   "source": [
    "import $ivy.`org.apache.spark::spark-core:3.1.2`\n",
    "import $ivy.`org.apache.spark::spark-sql:3.1.2`\n",
    "import $ivy.`org.apache.spark::spark-hive:3.1.2`\n",
    "import $ivy.`org.apache.spark::spark-mllib:3.1.2`"
   ]
  },
  {
   "cell_type": "markdown",
   "id": "dcba76a3",
   "metadata": {},
   "source": [
    "https://spark.apache.org/docs/latest/sql-performance-tuning.html"
   ]
  },
  {
   "cell_type": "markdown",
   "id": "796909cf",
   "metadata": {},
   "source": [
    "# SparkSession"
   ]
  },
  {
   "cell_type": "code",
   "execution_count": 2,
   "id": "8f17c8bf",
   "metadata": {
    "ExecuteTime": {
     "end_time": "2021-09-28T11:53:15.799123Z",
     "start_time": "2021-09-28T11:52:58.204Z"
    }
   },
   "outputs": [
    {
     "name": "stderr",
     "output_type": "stream",
     "text": [
      "Using Spark's default log4j profile: org/apache/spark/log4j-defaults.properties\n"
     ]
    },
    {
     "data": {
      "text/plain": [
       "\u001b[32mimport \u001b[39m\u001b[36morg.apache.hadoop.fs.{FileSystem, Path, FSDataOutputStream}\n",
       "\u001b[39m\n",
       "\u001b[32mimport \u001b[39m\u001b[36mjava.io.BufferedOutputStream\n",
       "\n",
       "\u001b[39m\n",
       "\u001b[32mimport \u001b[39m\u001b[36morg.apache.log4j.{Level, LogManager}\n",
       "\u001b[39m\n",
       "\u001b[32mimport \u001b[39m\u001b[36morg.apache.spark.sql.SparkSession\n",
       "\u001b[39m\n",
       "\u001b[32mimport \u001b[39m\u001b[36morg.apache.spark.sql.expressions.Window\n",
       "\u001b[39m\n",
       "\u001b[32mimport \u001b[39m\u001b[36morg.apache.spark.sql.functions.{col, row_number, max, count, from_unixtime, monotonicallyIncreasingId, to_date}\n",
       "\u001b[39m\n",
       "\u001b[32mimport \u001b[39m\u001b[36morg.apache.spark.sql.types.DateType\n",
       "\n",
       "  \n",
       "\u001b[39m\n",
       "\u001b[36mspark\u001b[39m: \u001b[32mSparkSession\u001b[39m = org.apache.spark.sql.SparkSession@464c79b5\n",
       "\u001b[32mimport \u001b[39m\u001b[36mspark.implicits._ \u001b[39m"
      ]
     },
     "execution_count": 2,
     "metadata": {},
     "output_type": "execute_result"
    }
   ],
   "source": [
    "import org.apache.hadoop.fs.{FileSystem, Path, FSDataOutputStream}\n",
    "import java.io.BufferedOutputStream\n",
    "\n",
    "import org.apache.log4j.{Level, LogManager}\n",
    "import org.apache.spark.sql.SparkSession\n",
    "import org.apache.spark.sql.expressions.Window\n",
    "import org.apache.spark.sql.functions.{col, row_number, max, count, from_unixtime, monotonicallyIncreasingId, to_date}\n",
    "import org.apache.spark.sql.types.DateType\n",
    "\n",
    "  \n",
    "LogManager.getLogger(\"org\").setLevel(Level.ERROR)\n",
    "  \n",
    "val spark = SparkSession.builder()\n",
    "  .master(\"local[*]\")\n",
    "  .appName(\"myApp\")\n",
    "  .config(\"hive.metastore.uris\",\"thrift://localhost:9083\")\n",
    "  .config(\"spark.hadoop.fs.default.name\", \"hdfs://localhost:9000\")\n",
    "  .enableHiveSupport()\n",
    "  .getOrCreate()\n",
    "\n",
    "import spark.implicits._ "
   ]
  },
  {
   "cell_type": "markdown",
   "id": "4b94a2b7",
   "metadata": {},
   "source": [
    "# Sanity checks"
   ]
  },
  {
   "cell_type": "code",
   "execution_count": 3,
   "id": "8335a125",
   "metadata": {
    "ExecuteTime": {
     "end_time": "2021-09-28T11:53:16.121720Z",
     "start_time": "2021-09-28T11:52:58.206Z"
    }
   },
   "outputs": [
    {
     "data": {
      "text/plain": [
       "\u001b[36mres2\u001b[39m: \u001b[32mString\u001b[39m = \u001b[32m\"3.1.2\"\u001b[39m"
      ]
     },
     "execution_count": 3,
     "metadata": {},
     "output_type": "execute_result"
    }
   ],
   "source": [
    "spark.version"
   ]
  },
  {
   "cell_type": "code",
   "execution_count": 4,
   "id": "66ffb693",
   "metadata": {
    "ExecuteTime": {
     "end_time": "2021-09-28T11:53:17.042175Z",
     "start_time": "2021-09-28T11:52:58.207Z"
    }
   },
   "outputs": [
    {
     "data": {
      "text/plain": [
       "\u001b[36mres3\u001b[39m: \u001b[32mString\u001b[39m = \u001b[32m\"10485760b\"\u001b[39m"
      ]
     },
     "execution_count": 4,
     "metadata": {},
     "output_type": "execute_result"
    }
   ],
   "source": [
    "spark.conf.get(\"spark.sql.autoBroadcastJoinThreshold\")"
   ]
  },
  {
   "cell_type": "code",
   "execution_count": 5,
   "id": "bcd8076f",
   "metadata": {
    "ExecuteTime": {
     "end_time": "2021-09-28T11:53:20.264246Z",
     "start_time": "2021-09-28T11:52:58.209Z"
    }
   },
   "outputs": [
    {
     "name": "stderr",
     "output_type": "stream",
     "text": [
      "21/09/28 14:53:18 INFO metastore: Trying to connect to metastore with URI thrift://localhost:9083\n",
      "21/09/28 14:53:18 INFO metastore: Opened a connection to metastore, current connections: 1\n",
      "21/09/28 14:53:18 INFO metastore: Connected to metastore.\n"
     ]
    },
    {
     "name": "stdout",
     "output_type": "stream",
     "text": [
      "+---------------+---------------------+------------------------------------------------------------+\n",
      "|name           |description          |locationUri                                                 |\n",
      "+---------------+---------------------+------------------------------------------------------------+\n",
      "|default        |Default Hive database|hdfs://localhost:9000/user/hive/warehouse                   |\n",
      "|hive_essentials|                     |hdfs://localhost:9000/user/hive/warehouse/hive_essentials.db|\n",
      "|pluralsight    |                     |hdfs://localhost:9000/user/hive/warehouse/pluralsight.db    |\n",
      "|rostel         |                     |hdfs://localhost:9000/user/hive/warehouse/rostel.db         |\n",
      "|rostel_test    |                     |hdfs://localhost:9000/user/hive/warehouse/rostel_test.db    |\n",
      "+---------------+---------------------+------------------------------------------------------------+\n",
      "\n"
     ]
    }
   ],
   "source": [
    "spark.catalog.listDatabases().show(false)"
   ]
  },
  {
   "cell_type": "code",
   "execution_count": 6,
   "id": "dd47eb40",
   "metadata": {
    "ExecuteTime": {
     "end_time": "2021-09-28T11:53:20.833995Z",
     "start_time": "2021-09-28T11:52:58.210Z"
    }
   },
   "outputs": [
    {
     "name": "stdout",
     "output_type": "stream",
     "text": [
      "+--------+----------------+-----------+\n",
      "|database|       tableName|isTemporary|\n",
      "+--------+----------------+-----------+\n",
      "|  rostel|        bad_data|      false|\n",
      "|  rostel|   first_session|      false|\n",
      "|  rostel|        logs_mrf|      false|\n",
      "|  rostel|popular_category|      false|\n",
      "+--------+----------------+-----------+\n",
      "\n"
     ]
    }
   ],
   "source": [
    "spark.sql(\"show tables in rostel\").show()"
   ]
  },
  {
   "cell_type": "markdown",
   "id": "6b2e5f9a",
   "metadata": {},
   "source": [
    "# Load data"
   ]
  },
  {
   "cell_type": "code",
   "execution_count": 7,
   "id": "20138aae",
   "metadata": {
    "ExecuteTime": {
     "end_time": "2021-09-28T11:53:21.099037Z",
     "start_time": "2021-09-28T11:52:58.211Z"
    }
   },
   "outputs": [
    {
     "data": {
      "text/plain": [
       "\u001b[36mdt\u001b[39m: \u001b[32mString\u001b[39m = \u001b[32m\"2019-12-11\"\u001b[39m\n",
       "\u001b[36mpath\u001b[39m: \u001b[32mString\u001b[39m = \u001b[32m\"hdfs:/user/sergey/clickstream\"\u001b[39m\n",
       "\u001b[36mpath_logs\u001b[39m: \u001b[32mString\u001b[39m = \u001b[32m\"hdfs:/user/sergey/clickstream/20191211/*.tsv\"\u001b[39m"
      ]
     },
     "execution_count": 7,
     "metadata": {},
     "output_type": "execute_result"
    }
   ],
   "source": [
    "// app arg\n",
    "val dt = \"2019-12-11\"\n",
    "// app arg\n",
    "val path = \"hdfs:/user/sergey/clickstream\"\n",
    "\n",
    "val path_logs = path + \"/\" + dt.replaceAll(\"-\",\"\") + \"/*.tsv\""
   ]
  },
  {
   "cell_type": "code",
   "execution_count": 8,
   "id": "faf3441c",
   "metadata": {
    "ExecuteTime": {
     "end_time": "2021-09-28T11:53:22.147800Z",
     "start_time": "2021-09-28T11:52:58.213Z"
    }
   },
   "outputs": [
    {
     "name": "stdout",
     "output_type": "stream",
     "text": [
      "root\n",
      " |-- timestamp: string (nullable = true)\n",
      " |-- url: string (nullable = true)\n",
      " |-- login: string (nullable = true)\n",
      " |-- region_code: string (nullable = true)\n",
      " |-- id: long (nullable = false)\n",
      " |-- valid_today: boolean (nullable = true)\n",
      " |-- valid_not_today: boolean (nullable = true)\n",
      " |-- not_timestamp: boolean (nullable = false)\n",
      "\n"
     ]
    },
    {
     "data": {
      "text/plain": [
       "\u001b[36mschema_logs_raw\u001b[39m: \u001b[32mString\u001b[39m = \u001b[32m\"timestamp string, url string, login string, region_code string\"\u001b[39m\n",
       "\u001b[36mraw_logs\u001b[39m: \u001b[32morg\u001b[39m.\u001b[32mapache\u001b[39m.\u001b[32mspark\u001b[39m.\u001b[32msql\u001b[39m.\u001b[32mDataset\u001b[39m[\u001b[32morg\u001b[39m.\u001b[32mapache\u001b[39m.\u001b[32mspark\u001b[39m.\u001b[32msql\u001b[39m.\u001b[32mRow\u001b[39m] = [timestamp: string, url: string ... 6 more fields]"
      ]
     },
     "execution_count": 8,
     "metadata": {},
     "output_type": "execute_result"
    }
   ],
   "source": [
    "val schema_logs_raw = \"timestamp string, url string, login string, region_code string\"\n",
    "\n",
    "val raw_logs = spark.\n",
    "    read.\n",
    "    options(Map(\"header\"->\"true\", \"sep\"->\"\\t\")).\n",
    "    schema(schema_logs_raw).\n",
    "    csv(path_logs).\n",
    "    withColumn(\"id\", monotonicallyIncreasingId).\n",
    "    withColumn(\"valid_today\", to_date(from_unixtime('timestamp)) === dt).\n",
    "    withColumn(\"valid_not_today\", to_date(from_unixtime('timestamp)) !== dt).\n",
    "    withColumn(\"not_timestamp\", from_unixtime('timestamp).isNull).cache()\n",
    "raw_logs.printSchema"
   ]
  },
  {
   "cell_type": "code",
   "execution_count": 9,
   "id": "1e30a7ed",
   "metadata": {
    "ExecuteTime": {
     "end_time": "2021-09-28T11:53:23.686174Z",
     "start_time": "2021-09-28T11:52:58.214Z"
    }
   },
   "outputs": [
    {
     "name": "stdout",
     "output_type": "stream",
     "text": [
      "+----------+--------------------+-----+-----------+----------+-----------+---------------+-------------+\n",
      "| timestamp|                 url|login|region_code|        id|valid_today|valid_not_today|not_timestamp|\n",
      "+----------+--------------------+-----+-----------+----------+-----------+---------------+-------------+\n",
      "|1576022400|    http://yandex.ru|vasya|         77|         0|       true|          false|        false|\n",
      "|1576022412|    http://google.ru|vasya|         77|         1|       true|          false|        false|\n",
      "|       abc|http://shop.ru/go...|petya|         59|         2|       null|           null|         true|\n",
      "|1576022500|    http://yandex.ru| vika|         59|         3|       true|          false|        false|\n",
      "|1576022412|    http://google.ru|sveta|         77|         4|       true|          false|        false|\n",
      "|1576022435|http://shop.ru/go...|kolya|         59|         5|       true|          false|        false|\n",
      "|1576022500|http://shop.ru/go...| vika|        abc|         6|       true|          false|        false|\n",
      "|1576022700|    http://google.ru| vika|         59|         7|       true|          false|        false|\n",
      "|1576022412|    http://yandex.ru|sveta|         77|         8|       true|          false|        false|\n",
      "|1576022635|    http://food-shop|kolya|         59|         9|       true|          false|        false|\n",
      "|1576022900|http://sports-wik...|kolya|       1000|        10|       true|          false|        false|\n",
      "|1576022400|    http://yandex.ru|vasya|         77|        11|       true|          false|        false|\n",
      "|1576022412|    http://google.ru|vasya|         77|        12|       true|          false|        false|\n",
      "|1576022435|http://shop.ru/go...|vasya|         77|        13|       true|          false|        false|\n",
      "|1576022400|                 123|vasya|         77|        14|       true|          false|        false|\n",
      "|1576022412|    http://google.ru|vasya|         77|        15|       true|          false|        false|\n",
      "|1576022435|http://shop.ru/go...|petya|         59|        16|       true|          false|        false|\n",
      "|1576022500|    http://yandex.ru| vika|         59|        17|       true|          false|        false|\n",
      "|      null|    http://google.ru|sveta|         77|        18|       null|           null|         true|\n",
      "|1576022435|http://shop.ru/go...|kolya|         59|        19|       true|          false|        false|\n",
      "|1576022500|http://shop.ru/go...| vika|         59|        20|       true|          false|        false|\n",
      "|1576022700|    http://google.ru| vika|         59|        21|       true|          false|        false|\n",
      "|1576022412|                null|sveta|         77|        22|       true|          false|        false|\n",
      "|1576022635|    http://food-shop|kolya|         59|        23|       true|          false|        false|\n",
      "|1576022900|http://sports-wik...|kolya|         59|        24|       true|          false|        false|\n",
      "|1576022400|    http://yandex.ru|vasya|         77|        25|       true|          false|        false|\n",
      "|1576022412|    http://google.ru| null|         77|        26|       true|          false|        false|\n",
      "|1576022435|http://shop.ru/go...|vasya|         77|        27|       true|          false|        false|\n",
      "|1576022400|    http://yandex.ru|vasya|         77|        28|       true|          false|        false|\n",
      "|1576022412|    http://google.ru|vasya|         77|        29|       true|          false|        false|\n",
      "|1576022435|http://shop.ru/go...|petya|       null|        30|       true|          false|        false|\n",
      "|1576022500|    http://yandex.ru| vika|         59|        31|       true|          false|        false|\n",
      "|1576022412|    http://google.ru|sveta|         77|        32|       true|          false|        false|\n",
      "|1576022435|http://shop.ru/go...|kolya|         59|        33|       true|          false|        false|\n",
      "|1576021500|http://shop.ru/go...| vika|         59|        34|       true|          false|        false|\n",
      "|1576022700|    http://google.ru| vika|         59|        35|       true|          false|        false|\n",
      "|1576022412|    http://yandex.ru|sveta|         77|        36|       true|          false|        false|\n",
      "|1576022635|    http://food-shop|kolya|         59|        37|       true|          false|        false|\n",
      "|1576022900|http://sports-wik...|kolya|         59|        38|       true|          false|        false|\n",
      "|1576022400|    http://yandex.ru|vasya|         77|        39|       true|          false|        false|\n",
      "|1576022412|    http://google.ru|vasya|         77|        40|       true|          false|        false|\n",
      "|1576022435|http://shop.ru/go...|vasya|         77|        41|       true|          false|        false|\n",
      "|1576022400|    http://yandex.ru|vasya|         77|8589934592|       true|          false|        false|\n",
      "|1576022412|    http://google.ru|vasya|         77|8589934593|       true|          false|        false|\n",
      "|1576022435|http://shop.ru/go...|petya|         59|8589934594|       true|          false|        false|\n",
      "|1576022500|    http://yandex.ru| vika|         59|8589934595|       true|          false|        false|\n",
      "|1576022412|    http://google.ru|sveta|         77|8589934596|       true|          false|        false|\n",
      "|1576022435|http://shop.ru/go...|kolya|         59|8589934597|       true|          false|        false|\n",
      "|1576022500|http://shop.ru/go...| vika|         59|8589934598|       true|          false|        false|\n",
      "|1576022700|    http://google.ru| vika|         59|8589934599|       true|          false|        false|\n",
      "|1576022412|    http://yandex.ru|sveta|         77|8589934600|       true|          false|        false|\n",
      "|1576022635|    http://food-shop|kolya|         59|8589934601|       true|          false|        false|\n",
      "|1576022900|http://sports-wik...|kolya|         59|8589934602|       true|          false|        false|\n",
      "|1576022400|    http://yandex.ru|vasya|         77|8589934603|       true|          false|        false|\n",
      "|1576022412|    http://google.ru|vasya|         77|8589934604|       true|          false|        false|\n",
      "|1576022435|http://shop.ru/go...|vasya|         77|8589934605|       true|          false|        false|\n",
      "+----------+--------------------+-----+-----------+----------+-----------+---------------+-------------+\n",
      "\n"
     ]
    }
   ],
   "source": [
    "raw_logs.show(100)"
   ]
  },
  {
   "cell_type": "code",
   "execution_count": 10,
   "id": "c635b6ed",
   "metadata": {
    "ExecuteTime": {
     "end_time": "2021-09-28T11:53:23.924512Z",
     "start_time": "2021-09-28T11:52:58.215Z"
    }
   },
   "outputs": [
    {
     "name": "stdout",
     "output_type": "stream",
     "text": [
      "root\n",
      " |-- timestamp: long (nullable = true)\n",
      " |-- url: string (nullable = true)\n",
      " |-- login: string (nullable = true)\n",
      " |-- region_code: integer (nullable = true)\n",
      " |-- id: long (nullable = false)\n",
      "\n"
     ]
    },
    {
     "data": {
      "text/plain": [
       "\u001b[36mlogs\u001b[39m: \u001b[32morg\u001b[39m.\u001b[32mapache\u001b[39m.\u001b[32mspark\u001b[39m.\u001b[32msql\u001b[39m.\u001b[32mpackage\u001b[39m.\u001b[32mDataFrame\u001b[39m = [timestamp: bigint, url: string ... 3 more fields]"
      ]
     },
     "execution_count": 10,
     "metadata": {},
     "output_type": "execute_result"
    }
   ],
   "source": [
    "val logs = raw_logs.\n",
    "    filter('valid_today || 'not_timestamp).\n",
    "    selectExpr(\n",
    "        \"cast(timestamp as long) timestamp\", \n",
    "        \"url\", \n",
    "        \"login\", \n",
    "        \"cast(region_code as integer) region_code\",\n",
    "        \"id\"\n",
    "              )\n",
    "logs.printSchema"
   ]
  },
  {
   "cell_type": "code",
   "execution_count": 11,
   "id": "26a99b5b",
   "metadata": {
    "ExecuteTime": {
     "end_time": "2021-09-28T11:53:24.257367Z",
     "start_time": "2021-09-28T11:52:58.217Z"
    }
   },
   "outputs": [
    {
     "name": "stdout",
     "output_type": "stream",
     "text": [
      "+----------+----------------------------+-----+-----------+----------+\n",
      "|timestamp |url                         |login|region_code|id        |\n",
      "+----------+----------------------------+-----+-----------+----------+\n",
      "|1576022400|http://yandex.ru            |vasya|77         |0         |\n",
      "|1576022412|http://google.ru            |vasya|77         |1         |\n",
      "|null      |http://shop.ru/goods/iphonex|petya|59         |2         |\n",
      "|1576022500|http://yandex.ru            |vika |59         |3         |\n",
      "|1576022412|http://google.ru            |sveta|77         |4         |\n",
      "|1576022435|http://shop.ru/goods/iphonex|kolya|59         |5         |\n",
      "|1576022500|http://shop.ru/goods/iphonex|vika |null       |6         |\n",
      "|1576022700|http://google.ru            |vika |59         |7         |\n",
      "|1576022412|http://yandex.ru            |sveta|77         |8         |\n",
      "|1576022635|http://food-shop            |kolya|59         |9         |\n",
      "|1576022900|http://sports-wiki.ru/apple/|kolya|1000       |10        |\n",
      "|1576022400|http://yandex.ru            |vasya|77         |11        |\n",
      "|1576022412|http://google.ru            |vasya|77         |12        |\n",
      "|1576022435|http://shop.ru/goods/iphonex|vasya|77         |13        |\n",
      "|1576022400|123                         |vasya|77         |14        |\n",
      "|1576022412|http://google.ru            |vasya|77         |15        |\n",
      "|1576022435|http://shop.ru/goods/iphonex|petya|59         |16        |\n",
      "|1576022500|http://yandex.ru            |vika |59         |17        |\n",
      "|null      |http://google.ru            |sveta|77         |18        |\n",
      "|1576022435|http://shop.ru/goods/iphonex|kolya|59         |19        |\n",
      "|1576022500|http://shop.ru/goods/iphonex|vika |59         |20        |\n",
      "|1576022700|http://google.ru            |vika |59         |21        |\n",
      "|1576022412|null                        |sveta|77         |22        |\n",
      "|1576022635|http://food-shop            |kolya|59         |23        |\n",
      "|1576022900|http://sports-wiki.ru/apple/|kolya|59         |24        |\n",
      "|1576022400|http://yandex.ru            |vasya|77         |25        |\n",
      "|1576022412|http://google.ru            |null |77         |26        |\n",
      "|1576022435|http://shop.ru/goods/iphonex|vasya|77         |27        |\n",
      "|1576022400|http://yandex.ru            |vasya|77         |28        |\n",
      "|1576022412|http://google.ru            |vasya|77         |29        |\n",
      "|1576022435|http://shop.ru/goods/iphonex|petya|null       |30        |\n",
      "|1576022500|http://yandex.ru            |vika |59         |31        |\n",
      "|1576022412|http://google.ru            |sveta|77         |32        |\n",
      "|1576022435|http://shop.ru/goods/iphonex|kolya|59         |33        |\n",
      "|1576021500|http://shop.ru/goods/iphonex|vika |59         |34        |\n",
      "|1576022700|http://google.ru            |vika |59         |35        |\n",
      "|1576022412|http://yandex.ru            |sveta|77         |36        |\n",
      "|1576022635|http://food-shop            |kolya|59         |37        |\n",
      "|1576022900|http://sports-wiki.ru/apple/|kolya|59         |38        |\n",
      "|1576022400|http://yandex.ru            |vasya|77         |39        |\n",
      "|1576022412|http://google.ru            |vasya|77         |40        |\n",
      "|1576022435|http://shop.ru/goods/iphonex|vasya|77         |41        |\n",
      "|1576022400|http://yandex.ru            |vasya|77         |8589934592|\n",
      "|1576022412|http://google.ru            |vasya|77         |8589934593|\n",
      "|1576022435|http://shop.ru/goods/iphonex|petya|59         |8589934594|\n",
      "|1576022500|http://yandex.ru            |vika |59         |8589934595|\n",
      "|1576022412|http://google.ru            |sveta|77         |8589934596|\n",
      "|1576022435|http://shop.ru/goods/iphonex|kolya|59         |8589934597|\n",
      "|1576022500|http://shop.ru/goods/iphonex|vika |59         |8589934598|\n",
      "|1576022700|http://google.ru            |vika |59         |8589934599|\n",
      "|1576022412|http://yandex.ru            |sveta|77         |8589934600|\n",
      "|1576022635|http://food-shop            |kolya|59         |8589934601|\n",
      "|1576022900|http://sports-wiki.ru/apple/|kolya|59         |8589934602|\n",
      "|1576022400|http://yandex.ru            |vasya|77         |8589934603|\n",
      "|1576022412|http://google.ru            |vasya|77         |8589934604|\n",
      "|1576022435|http://shop.ru/goods/iphonex|vasya|77         |8589934605|\n",
      "+----------+----------------------------+-----+-----------+----------+\n",
      "\n"
     ]
    }
   ],
   "source": [
    "logs.show(100,false)"
   ]
  },
  {
   "cell_type": "code",
   "execution_count": 12,
   "id": "d393dd18",
   "metadata": {
    "ExecuteTime": {
     "end_time": "2021-09-28T11:53:24.478682Z",
     "start_time": "2021-09-28T11:52:58.218Z"
    }
   },
   "outputs": [
    {
     "name": "stdout",
     "output_type": "stream",
     "text": [
      "root\n",
      " |-- regione_code: integer (nullable = true)\n",
      " |-- mrf: string (nullable = true)\n",
      "\n"
     ]
    },
    {
     "data": {
      "text/plain": [
       "\u001b[36mpath_regions\u001b[39m: \u001b[32mString\u001b[39m = \u001b[32m\"hdfs:/user/sergey/regions/regions.tsv\"\u001b[39m\n",
       "\u001b[36mschema_regions\u001b[39m: \u001b[32mString\u001b[39m = \u001b[32m\"regione_code integer, mrf string\"\u001b[39m\n",
       "\u001b[36mregions\u001b[39m: \u001b[32morg\u001b[39m.\u001b[32mapache\u001b[39m.\u001b[32mspark\u001b[39m.\u001b[32msql\u001b[39m.\u001b[32mpackage\u001b[39m.\u001b[32mDataFrame\u001b[39m = [regione_code: int, mrf: string]"
      ]
     },
     "execution_count": 12,
     "metadata": {},
     "output_type": "execute_result"
    }
   ],
   "source": [
    "val path_regions = \"hdfs:/user/sergey/regions/regions.tsv\"\n",
    "val schema_regions = \"regione_code integer, mrf string\"\n",
    "val regions = spark.\n",
    "    read.\n",
    "    options(Map(\"header\"->\"true\", \"sep\"->\"\\t\")).\n",
    "    schema(schema_regions).\n",
    "    csv(path_regions)\n",
    "\n",
    "regions.printSchema"
   ]
  },
  {
   "cell_type": "code",
   "execution_count": 13,
   "id": "5cad1ee2",
   "metadata": {
    "ExecuteTime": {
     "end_time": "2021-09-28T11:53:24.729586Z",
     "start_time": "2021-09-28T11:52:58.219Z"
    }
   },
   "outputs": [
    {
     "name": "stdout",
     "output_type": "stream",
     "text": [
      "+------------+------+\n",
      "|regione_code|mrf   |\n",
      "+------------+------+\n",
      "|45          |ural  |\n",
      "|59          |ural  |\n",
      "|31          |center|\n",
      "|32          |center|\n",
      "|77          |center|\n",
      "+------------+------+\n",
      "\n"
     ]
    }
   ],
   "source": [
    "regions.show(100,false)"
   ]
  },
  {
   "cell_type": "code",
   "execution_count": 14,
   "id": "610ed689",
   "metadata": {
    "ExecuteTime": {
     "end_time": "2021-09-28T11:53:24.936175Z",
     "start_time": "2021-09-28T11:52:58.222Z"
    }
   },
   "outputs": [
    {
     "name": "stdout",
     "output_type": "stream",
     "text": [
      "root\n",
      " |-- url: string (nullable = true)\n",
      " |-- category: string (nullable = true)\n",
      "\n"
     ]
    },
    {
     "data": {
      "text/plain": [
       "\u001b[36mpath_categories\u001b[39m: \u001b[32mString\u001b[39m = \u001b[32m\"hdfs:/user/sergey/categories/categories.tsv\"\u001b[39m\n",
       "\u001b[36mschema_categories\u001b[39m: \u001b[32mString\u001b[39m = \u001b[32m\"url string, category string\"\u001b[39m\n",
       "\u001b[36mcategories\u001b[39m: \u001b[32morg\u001b[39m.\u001b[32mapache\u001b[39m.\u001b[32mspark\u001b[39m.\u001b[32msql\u001b[39m.\u001b[32mpackage\u001b[39m.\u001b[32mDataFrame\u001b[39m = [url: string, category: string]"
      ]
     },
     "execution_count": 14,
     "metadata": {},
     "output_type": "execute_result"
    }
   ],
   "source": [
    "val path_categories = \"hdfs:/user/sergey/categories/categories.tsv\"\n",
    "val schema_categories = \"url string, category string\"\n",
    "val categories = spark.\n",
    "    read.\n",
    "    options(Map(\"header\"->\"true\", \"sep\"->\"\\t\")).\n",
    "    schema(schema_categories).\n",
    "    csv(path_categories)\n",
    "\n",
    "categories.printSchema"
   ]
  },
  {
   "cell_type": "code",
   "execution_count": 15,
   "id": "892664ce",
   "metadata": {
    "ExecuteTime": {
     "end_time": "2021-09-28T11:53:25.180477Z",
     "start_time": "2021-09-28T11:52:58.223Z"
    }
   },
   "outputs": [
    {
     "name": "stdout",
     "output_type": "stream",
     "text": [
      "+----------------------------+--------+\n",
      "|url                         |category|\n",
      "+----------------------------+--------+\n",
      "|http://yandex.ru            |search  |\n",
      "|http://google.ru            |search  |\n",
      "|http://shop.ru/goods/iphonex|shop    |\n",
      "|http://food-shop.ru/apple/  |shop    |\n",
      "|http://sports-wiki.ru/apple/|sport   |\n",
      "+----------------------------+--------+\n",
      "\n"
     ]
    }
   ],
   "source": [
    "categories.show(100,false)"
   ]
  },
  {
   "cell_type": "markdown",
   "id": "2d4061d9",
   "metadata": {},
   "source": [
    "# Tables"
   ]
  },
  {
   "cell_type": "markdown",
   "id": "65adf512",
   "metadata": {},
   "source": [
    "## mrf"
   ]
  },
  {
   "cell_type": "code",
   "execution_count": 16,
   "id": "63d3c2a2",
   "metadata": {
    "ExecuteTime": {
     "end_time": "2021-09-28T11:53:25.389958Z",
     "start_time": "2021-09-28T11:52:58.225Z"
    }
   },
   "outputs": [
    {
     "name": "stdout",
     "output_type": "stream",
     "text": [
      "+------------+------+\n",
      "|regione_code|   mrf|\n",
      "+------------+------+\n",
      "|          45|  ural|\n",
      "|          59|  ural|\n",
      "|          31|center|\n",
      "|          32|center|\n",
      "|          77|center|\n",
      "+------------+------+\n",
      "\n"
     ]
    }
   ],
   "source": [
    "regions.show"
   ]
  },
  {
   "cell_type": "code",
   "execution_count": 17,
   "id": "e56390b4",
   "metadata": {
    "ExecuteTime": {
     "end_time": "2021-09-28T11:53:25.892492Z",
     "start_time": "2021-09-28T11:52:58.227Z"
    }
   },
   "outputs": [
    {
     "name": "stdout",
     "output_type": "stream",
     "text": [
      "+----------+----------------------------+-----+-----------+----------+------+\n",
      "|timestamp |url                         |login|region_code|id        |mrf   |\n",
      "+----------+----------------------------+-----+-----------+----------+------+\n",
      "|1576022400|http://yandex.ru            |vasya|77         |0         |center|\n",
      "|1576022412|http://google.ru            |vasya|77         |1         |center|\n",
      "|null      |http://shop.ru/goods/iphonex|petya|59         |2         |ural  |\n",
      "|1576022500|http://yandex.ru            |vika |59         |3         |ural  |\n",
      "|1576022412|http://google.ru            |sveta|77         |4         |center|\n",
      "|1576022435|http://shop.ru/goods/iphonex|kolya|59         |5         |ural  |\n",
      "|1576022500|http://shop.ru/goods/iphonex|vika |null       |6         |null  |\n",
      "|1576022700|http://google.ru            |vika |59         |7         |ural  |\n",
      "|1576022412|http://yandex.ru            |sveta|77         |8         |center|\n",
      "|1576022635|http://food-shop            |kolya|59         |9         |ural  |\n",
      "|1576022900|http://sports-wiki.ru/apple/|kolya|1000       |10        |null  |\n",
      "|1576022400|http://yandex.ru            |vasya|77         |11        |center|\n",
      "|1576022412|http://google.ru            |vasya|77         |12        |center|\n",
      "|1576022435|http://shop.ru/goods/iphonex|vasya|77         |13        |center|\n",
      "|1576022400|123                         |vasya|77         |14        |center|\n",
      "|1576022412|http://google.ru            |vasya|77         |15        |center|\n",
      "|1576022435|http://shop.ru/goods/iphonex|petya|59         |16        |ural  |\n",
      "|1576022500|http://yandex.ru            |vika |59         |17        |ural  |\n",
      "|null      |http://google.ru            |sveta|77         |18        |center|\n",
      "|1576022435|http://shop.ru/goods/iphonex|kolya|59         |19        |ural  |\n",
      "|1576022500|http://shop.ru/goods/iphonex|vika |59         |20        |ural  |\n",
      "|1576022700|http://google.ru            |vika |59         |21        |ural  |\n",
      "|1576022412|null                        |sveta|77         |22        |center|\n",
      "|1576022635|http://food-shop            |kolya|59         |23        |ural  |\n",
      "|1576022900|http://sports-wiki.ru/apple/|kolya|59         |24        |ural  |\n",
      "|1576022400|http://yandex.ru            |vasya|77         |25        |center|\n",
      "|1576022412|http://google.ru            |null |77         |26        |center|\n",
      "|1576022435|http://shop.ru/goods/iphonex|vasya|77         |27        |center|\n",
      "|1576022400|http://yandex.ru            |vasya|77         |28        |center|\n",
      "|1576022412|http://google.ru            |vasya|77         |29        |center|\n",
      "|1576022435|http://shop.ru/goods/iphonex|petya|null       |30        |null  |\n",
      "|1576022500|http://yandex.ru            |vika |59         |31        |ural  |\n",
      "|1576022412|http://google.ru            |sveta|77         |32        |center|\n",
      "|1576022435|http://shop.ru/goods/iphonex|kolya|59         |33        |ural  |\n",
      "|1576021500|http://shop.ru/goods/iphonex|vika |59         |34        |ural  |\n",
      "|1576022700|http://google.ru            |vika |59         |35        |ural  |\n",
      "|1576022412|http://yandex.ru            |sveta|77         |36        |center|\n",
      "|1576022635|http://food-shop            |kolya|59         |37        |ural  |\n",
      "|1576022900|http://sports-wiki.ru/apple/|kolya|59         |38        |ural  |\n",
      "|1576022400|http://yandex.ru            |vasya|77         |39        |center|\n",
      "|1576022412|http://google.ru            |vasya|77         |40        |center|\n",
      "|1576022435|http://shop.ru/goods/iphonex|vasya|77         |41        |center|\n",
      "|1576022400|http://yandex.ru            |vasya|77         |8589934592|center|\n",
      "|1576022412|http://google.ru            |vasya|77         |8589934593|center|\n",
      "|1576022435|http://shop.ru/goods/iphonex|petya|59         |8589934594|ural  |\n",
      "|1576022500|http://yandex.ru            |vika |59         |8589934595|ural  |\n",
      "|1576022412|http://google.ru            |sveta|77         |8589934596|center|\n",
      "|1576022435|http://shop.ru/goods/iphonex|kolya|59         |8589934597|ural  |\n",
      "|1576022500|http://shop.ru/goods/iphonex|vika |59         |8589934598|ural  |\n",
      "|1576022700|http://google.ru            |vika |59         |8589934599|ural  |\n",
      "|1576022412|http://yandex.ru            |sveta|77         |8589934600|center|\n",
      "|1576022635|http://food-shop            |kolya|59         |8589934601|ural  |\n",
      "|1576022900|http://sports-wiki.ru/apple/|kolya|59         |8589934602|ural  |\n",
      "|1576022400|http://yandex.ru            |vasya|77         |8589934603|center|\n",
      "|1576022412|http://google.ru            |vasya|77         |8589934604|center|\n",
      "|1576022435|http://shop.ru/goods/iphonex|vasya|77         |8589934605|center|\n",
      "+----------+----------------------------+-----+-----------+----------+------+\n",
      "\n"
     ]
    },
    {
     "data": {
      "text/plain": [
       "\u001b[36mlogs_mrf\u001b[39m: \u001b[32morg\u001b[39m.\u001b[32mapache\u001b[39m.\u001b[32mspark\u001b[39m.\u001b[32msql\u001b[39m.\u001b[32mpackage\u001b[39m.\u001b[32mDataFrame\u001b[39m = [timestamp: bigint, url: string ... 4 more fields]"
      ]
     },
     "execution_count": 17,
     "metadata": {},
     "output_type": "execute_result"
    }
   ],
   "source": [
    "val logs_mrf = logs.\n",
    "    join(regions.hint(\"broadcast\"), logs(\"region_code\") === regions(\"regione_code\"),\"left\").\n",
    "    drop(\"regione_code\")\n",
    "logs_mrf.show(100, false)"
   ]
  },
  {
   "cell_type": "code",
   "execution_count": 18,
   "id": "5b842cee",
   "metadata": {
    "ExecuteTime": {
     "end_time": "2021-09-28T11:53:26.038592Z",
     "start_time": "2021-09-28T11:52:58.229Z"
    }
   },
   "outputs": [
    {
     "name": "stdout",
     "output_type": "stream",
     "text": [
      "== Physical Plan ==\n",
      "*(2) Project [timestamp#326L, url#52, login#53, region_code#327, id#59L, mrf#515]\n",
      "+- *(2) BroadcastHashJoin [region_code#327], [regione_code#514], LeftOuter, BuildRight, false\n",
      "   :- *(2) Project [cast(timestamp#51 as bigint) AS timestamp#326L, url#52, login#53, cast(region_code#54 as int) AS region_code#327, id#59L]\n",
      "   :  +- *(2) Filter (valid_today#65 OR not_timestamp#80)\n",
      "   :     +- InMemoryTableScan [id#59L, login#53, not_timestamp#80, region_code#54, timestamp#51, url#52, valid_today#65], [(valid_today#65 OR not_timestamp#80)]\n",
      "   :           +- InMemoryRelation [timestamp#51, url#52, login#53, region_code#54, id#59L, valid_today#65, valid_not_today#72, not_timestamp#80], StorageLevel(disk, memory, deserialized, 1 replicas)\n",
      "   :                 +- *(1) Project [timestamp#51, url#52, login#53, region_code#54, id#59L, (cast(from_unixtime(cast(timestamp#51 as bigint), yyyy-MM-dd HH:mm:ss, Some(Europe/Moscow)) as date) = 18241) AS valid_today#65, NOT (cast(from_unixtime(cast(timestamp#51 as bigint), yyyy-MM-dd HH:mm:ss, Some(Europe/Moscow)) as date) = 18241) AS valid_not_today#72, isnull(from_unixtime(cast(timestamp#51 as bigint), yyyy-MM-dd HH:mm:ss, Some(Europe/Moscow))) AS not_timestamp#80]\n",
      "   :                    +- *(1) Project [timestamp#51, url#52, login#53, region_code#54, monotonically_increasing_id() AS id#59L]\n",
      "   :                       +- FileScan csv [timestamp#51,url#52,login#53,region_code#54] Batched: false, DataFilters: [], Format: CSV, Location: InMemoryFileIndex[hdfs://localhost:9000/user/sergey/clickstream/20191211/bad_log.tsv, hdfs://loca..., PartitionFilters: [], PushedFilters: [], ReadSchema: struct<timestamp:string,url:string,login:string,region_code:string>\n",
      "   +- BroadcastExchange HashedRelationBroadcastMode(List(cast(input[0, int, false] as bigint)),false), [id=#158]\n",
      "      +- *(1) Filter isnotnull(regione_code#514)\n",
      "         +- FileScan csv [regione_code#514,mrf#515] Batched: false, DataFilters: [isnotnull(regione_code#514)], Format: CSV, Location: InMemoryFileIndex[hdfs://localhost:9000/user/sergey/regions/regions.tsv], PartitionFilters: [], PushedFilters: [IsNotNull(regione_code)], ReadSchema: struct<regione_code:int,mrf:string>\n",
      "\n",
      "\n"
     ]
    }
   ],
   "source": [
    "// the join is broadcast\n",
    "// logs_mrf.explain(true)\n",
    "logs_mrf.explain"
   ]
  },
  {
   "cell_type": "code",
   "execution_count": 19,
   "id": "73a82360",
   "metadata": {
    "ExecuteTime": {
     "end_time": "2021-09-28T11:53:28.026015Z",
     "start_time": "2021-09-28T11:52:58.230Z"
    }
   },
   "outputs": [
    {
     "name": "stderr",
     "output_type": "stream",
     "text": [
      "21/09/28 14:53:27 INFO metastore: Mestastore configuration hive.metastore.filter.hook changed from org.apache.hadoop.hive.metastore.DefaultMetaStoreFilterHookImpl to org.apache.hadoop.hive.ql.security.authorization.plugin.AuthorizationMetaStoreFilterHook\n",
      "21/09/28 14:53:27 INFO metastore: Closed a connection to metastore, current connections: 0\n",
      "21/09/28 14:53:27 INFO metastore: Trying to connect to metastore with URI thrift://localhost:9083\n",
      "21/09/28 14:53:27 INFO metastore: Opened a connection to metastore, current connections: 1\n",
      "21/09/28 14:53:27 INFO metastore: Connected to metastore.\n",
      "21/09/28 14:53:27 INFO metastore: Trying to connect to metastore with URI thrift://localhost:9083\n",
      "21/09/28 14:53:27 INFO metastore: Opened a connection to metastore, current connections: 2\n",
      "21/09/28 14:53:27 INFO metastore: Connected to metastore.\n"
     ]
    },
    {
     "data": {
      "text/plain": [
       "\u001b[36mres18_0\u001b[39m: \u001b[32morg\u001b[39m.\u001b[32mapache\u001b[39m.\u001b[32mspark\u001b[39m.\u001b[32msql\u001b[39m.\u001b[32mpackage\u001b[39m.\u001b[32mDataFrame\u001b[39m = []"
      ]
     },
     "execution_count": 19,
     "metadata": {},
     "output_type": "execute_result"
    }
   ],
   "source": [
    "spark.sql(\"use rostel\")\n",
    "logs_mrf.\n",
    "    write.\n",
    "    mode(\"overwrite\").\n",
    "    saveAsTable(\"logs_mrf\")"
   ]
  },
  {
   "cell_type": "code",
   "execution_count": 20,
   "id": "c1fb83a9",
   "metadata": {
    "ExecuteTime": {
     "end_time": "2021-09-28T11:53:28.317944Z",
     "start_time": "2021-09-28T11:52:58.232Z"
    }
   },
   "outputs": [
    {
     "data": {
      "text/plain": [
       "\u001b[36mres19\u001b[39m: \u001b[32mInt\u001b[39m = \u001b[32m2\u001b[39m"
      ]
     },
     "execution_count": 20,
     "metadata": {},
     "output_type": "execute_result"
    }
   ],
   "source": [
    "logs_mrf.rdd.partitions.size"
   ]
  },
  {
   "cell_type": "markdown",
   "id": "77f646de",
   "metadata": {},
   "source": [
    "## First login"
   ]
  },
  {
   "cell_type": "code",
   "execution_count": 21,
   "id": "af8d0bdb",
   "metadata": {
    "ExecuteTime": {
     "end_time": "2021-09-28T11:53:29.554786Z",
     "start_time": "2021-09-28T11:52:58.234Z"
    }
   },
   "outputs": [
    {
     "name": "stdout",
     "output_type": "stream",
     "text": [
      "+-----+----------+\n",
      "|login| timestamp|\n",
      "+-----+----------+\n",
      "| null|1576022412|\n",
      "|sveta|1576022412|\n",
      "|petya|1576022435|\n",
      "|vasya|1576022435|\n",
      "| vika|1576022700|\n",
      "|kolya|1576022900|\n",
      "+-----+----------+\n",
      "\n"
     ]
    },
    {
     "data": {
      "text/plain": [
       "\u001b[36mw1\u001b[39m: \u001b[32morg\u001b[39m.\u001b[32mapache\u001b[39m.\u001b[32mspark\u001b[39m.\u001b[32msql\u001b[39m.\u001b[32mexpressions\u001b[39m.\u001b[32mWindowSpec\u001b[39m = org.apache.spark.sql.expressions.WindowSpec@2d405825\n",
       "\u001b[36mfirst_session\u001b[39m: \u001b[32morg\u001b[39m.\u001b[32mapache\u001b[39m.\u001b[32mspark\u001b[39m.\u001b[32msql\u001b[39m.\u001b[32mpackage\u001b[39m.\u001b[32mDataFrame\u001b[39m = [login: string, timestamp: bigint]"
      ]
     },
     "execution_count": 21,
     "metadata": {},
     "output_type": "execute_result"
    }
   ],
   "source": [
    "val w1 = Window.partitionBy('login).orderBy('timestamp.desc)\n",
    "val first_session = logs.\n",
    "    withColumn(\"rn\", row_number.over(w1)).where('rn === 1).\n",
    "    select('login,'timestamp)\n",
    "\n",
    "first_session.show()"
   ]
  },
  {
   "cell_type": "code",
   "execution_count": 22,
   "id": "4be51117",
   "metadata": {
    "ExecuteTime": {
     "end_time": "2021-09-28T11:53:31.608967Z",
     "start_time": "2021-09-28T11:52:58.236Z"
    }
   },
   "outputs": [],
   "source": [
    "// first_session.rdd.partitions.size\n",
    "\n",
    "first_session.\n",
    "    coalesce(2).\n",
    "    write.\n",
    "    mode(\"overwrite\").\n",
    "    saveAsTable(\"first_session\")"
   ]
  },
  {
   "cell_type": "markdown",
   "id": "869ba4c4",
   "metadata": {},
   "source": [
    "## Most popular category"
   ]
  },
  {
   "cell_type": "code",
   "execution_count": 23,
   "id": "ddc83837",
   "metadata": {
    "ExecuteTime": {
     "end_time": "2021-09-28T11:53:32.188756Z",
     "start_time": "2021-09-28T11:52:58.238Z"
    }
   },
   "outputs": [
    {
     "name": "stdout",
     "output_type": "stream",
     "text": [
      "+--------------+-----+-------------------+----------------------------+----------+--------+\n",
      "|host          |login|date               |url                         |id        |category|\n",
      "+--------------+-----+-------------------+----------------------------+----------+--------+\n",
      "|yandex.ru     |vasya|2019-12-11 03:00:00|http://yandex.ru            |0         |search  |\n",
      "|google.ru     |vasya|2019-12-11 03:00:12|http://google.ru            |1         |search  |\n",
      "|shop.ru       |petya|null               |http://shop.ru/goods/iphonex|2         |shop    |\n",
      "|yandex.ru     |vika |2019-12-11 03:01:40|http://yandex.ru            |3         |search  |\n",
      "|google.ru     |sveta|2019-12-11 03:00:12|http://google.ru            |4         |search  |\n",
      "|shop.ru       |kolya|2019-12-11 03:00:35|http://shop.ru/goods/iphonex|5         |shop    |\n",
      "|shop.ru       |vika |2019-12-11 03:01:40|http://shop.ru/goods/iphonex|6         |shop    |\n",
      "|google.ru     |vika |2019-12-11 03:05:00|http://google.ru            |7         |search  |\n",
      "|yandex.ru     |sveta|2019-12-11 03:00:12|http://yandex.ru            |8         |search  |\n",
      "|food-shop     |kolya|2019-12-11 03:03:55|http://food-shop            |9         |null    |\n",
      "|sports-wiki.ru|kolya|2019-12-11 03:08:20|http://sports-wiki.ru/apple/|10        |sport   |\n",
      "|yandex.ru     |vasya|2019-12-11 03:00:00|http://yandex.ru            |11        |search  |\n",
      "|google.ru     |vasya|2019-12-11 03:00:12|http://google.ru            |12        |search  |\n",
      "|shop.ru       |vasya|2019-12-11 03:00:35|http://shop.ru/goods/iphonex|13        |shop    |\n",
      "|null          |vasya|2019-12-11 03:00:00|123                         |14        |null    |\n",
      "|google.ru     |vasya|2019-12-11 03:00:12|http://google.ru            |15        |search  |\n",
      "|shop.ru       |petya|2019-12-11 03:00:35|http://shop.ru/goods/iphonex|16        |shop    |\n",
      "|yandex.ru     |vika |2019-12-11 03:01:40|http://yandex.ru            |17        |search  |\n",
      "|google.ru     |sveta|null               |http://google.ru            |18        |search  |\n",
      "|shop.ru       |kolya|2019-12-11 03:00:35|http://shop.ru/goods/iphonex|19        |shop    |\n",
      "|shop.ru       |vika |2019-12-11 03:01:40|http://shop.ru/goods/iphonex|20        |shop    |\n",
      "|google.ru     |vika |2019-12-11 03:05:00|http://google.ru            |21        |search  |\n",
      "|null          |sveta|2019-12-11 03:00:12|null                        |22        |null    |\n",
      "|food-shop     |kolya|2019-12-11 03:03:55|http://food-shop            |23        |null    |\n",
      "|sports-wiki.ru|kolya|2019-12-11 03:08:20|http://sports-wiki.ru/apple/|24        |sport   |\n",
      "|yandex.ru     |vasya|2019-12-11 03:00:00|http://yandex.ru            |25        |search  |\n",
      "|google.ru     |null |2019-12-11 03:00:12|http://google.ru            |26        |search  |\n",
      "|shop.ru       |vasya|2019-12-11 03:00:35|http://shop.ru/goods/iphonex|27        |shop    |\n",
      "|yandex.ru     |vasya|2019-12-11 03:00:00|http://yandex.ru            |28        |search  |\n",
      "|google.ru     |vasya|2019-12-11 03:00:12|http://google.ru            |29        |search  |\n",
      "|shop.ru       |petya|2019-12-11 03:00:35|http://shop.ru/goods/iphonex|30        |shop    |\n",
      "|yandex.ru     |vika |2019-12-11 03:01:40|http://yandex.ru            |31        |search  |\n",
      "|google.ru     |sveta|2019-12-11 03:00:12|http://google.ru            |32        |search  |\n",
      "|shop.ru       |kolya|2019-12-11 03:00:35|http://shop.ru/goods/iphonex|33        |shop    |\n",
      "|shop.ru       |vika |2019-12-11 02:45:00|http://shop.ru/goods/iphonex|34        |shop    |\n",
      "|google.ru     |vika |2019-12-11 03:05:00|http://google.ru            |35        |search  |\n",
      "|yandex.ru     |sveta|2019-12-11 03:00:12|http://yandex.ru            |36        |search  |\n",
      "|food-shop     |kolya|2019-12-11 03:03:55|http://food-shop            |37        |null    |\n",
      "|sports-wiki.ru|kolya|2019-12-11 03:08:20|http://sports-wiki.ru/apple/|38        |sport   |\n",
      "|yandex.ru     |vasya|2019-12-11 03:00:00|http://yandex.ru            |39        |search  |\n",
      "|google.ru     |vasya|2019-12-11 03:00:12|http://google.ru            |40        |search  |\n",
      "|shop.ru       |vasya|2019-12-11 03:00:35|http://shop.ru/goods/iphonex|41        |shop    |\n",
      "|yandex.ru     |vasya|2019-12-11 03:00:00|http://yandex.ru            |8589934592|search  |\n",
      "|google.ru     |vasya|2019-12-11 03:00:12|http://google.ru            |8589934593|search  |\n",
      "|shop.ru       |petya|2019-12-11 03:00:35|http://shop.ru/goods/iphonex|8589934594|shop    |\n",
      "|yandex.ru     |vika |2019-12-11 03:01:40|http://yandex.ru            |8589934595|search  |\n",
      "|google.ru     |sveta|2019-12-11 03:00:12|http://google.ru            |8589934596|search  |\n",
      "|shop.ru       |kolya|2019-12-11 03:00:35|http://shop.ru/goods/iphonex|8589934597|shop    |\n",
      "|shop.ru       |vika |2019-12-11 03:01:40|http://shop.ru/goods/iphonex|8589934598|shop    |\n",
      "|google.ru     |vika |2019-12-11 03:05:00|http://google.ru            |8589934599|search  |\n",
      "|yandex.ru     |sveta|2019-12-11 03:00:12|http://yandex.ru            |8589934600|search  |\n",
      "|food-shop     |kolya|2019-12-11 03:03:55|http://food-shop            |8589934601|null    |\n",
      "|sports-wiki.ru|kolya|2019-12-11 03:08:20|http://sports-wiki.ru/apple/|8589934602|sport   |\n",
      "|yandex.ru     |vasya|2019-12-11 03:00:00|http://yandex.ru            |8589934603|search  |\n",
      "|google.ru     |vasya|2019-12-11 03:00:12|http://google.ru            |8589934604|search  |\n",
      "|shop.ru       |vasya|2019-12-11 03:00:35|http://shop.ru/goods/iphonex|8589934605|shop    |\n",
      "+--------------+-----+-------------------+----------------------------+----------+--------+\n",
      "\n"
     ]
    },
    {
     "data": {
      "text/plain": [
       "\u001b[36mlogs_host\u001b[39m: \u001b[32morg\u001b[39m.\u001b[32mapache\u001b[39m.\u001b[32mspark\u001b[39m.\u001b[32msql\u001b[39m.\u001b[32mpackage\u001b[39m.\u001b[32mDataFrame\u001b[39m = [login: string, date: string ... 3 more fields]\n",
       "\u001b[36mcategories_host\u001b[39m: \u001b[32morg\u001b[39m.\u001b[32mapache\u001b[39m.\u001b[32mspark\u001b[39m.\u001b[32msql\u001b[39m.\u001b[32mpackage\u001b[39m.\u001b[32mDataFrame\u001b[39m = [host: string, category: string]\n",
       "\u001b[36mlogs_category\u001b[39m: \u001b[32morg\u001b[39m.\u001b[32mapache\u001b[39m.\u001b[32mspark\u001b[39m.\u001b[32msql\u001b[39m.\u001b[32mpackage\u001b[39m.\u001b[32mDataFrame\u001b[39m = [host: string, login: string ... 4 more fields]"
      ]
     },
     "execution_count": 23,
     "metadata": {},
     "output_type": "execute_result"
    }
   ],
   "source": [
    "val logs_host = logs.selectExpr(\"login\",\"from_unixtime(timestamp) as date\", \"parse_url(url, 'HOST') as host\",\"url\",\"id\")\n",
    "val categories_host = categories.selectExpr(\"parse_url(url, 'HOST') as host\", \"category\")\n",
    "val logs_category = logs_host.join(categories_host.hint(\"broadcast\"), Seq(\"host\"), \"left\")\n",
    "logs_category.show(100, false)"
   ]
  },
  {
   "cell_type": "code",
   "execution_count": 24,
   "id": "3de3570d",
   "metadata": {
    "ExecuteTime": {
     "end_time": "2021-09-28T11:53:32.915278Z",
     "start_time": "2021-09-28T11:52:58.240Z"
    }
   },
   "outputs": [
    {
     "name": "stdout",
     "output_type": "stream",
     "text": [
      "+-----+--------+-----+\n",
      "|login|category|count|\n",
      "+-----+--------+-----+\n",
      "|petya|shop    |4    |\n",
      "|vasya|shop    |4    |\n",
      "|vika |search  |8    |\n",
      "|sveta|null    |1    |\n",
      "|vasya|search  |14   |\n",
      "|kolya|sport   |4    |\n",
      "|vika |shop    |4    |\n",
      "|sveta|search  |7    |\n",
      "|null |search  |1    |\n",
      "|vasya|null    |1    |\n",
      "|kolya|shop    |4    |\n",
      "|kolya|null    |4    |\n",
      "+-----+--------+-----+\n",
      "\n"
     ]
    }
   ],
   "source": [
    "logs_category.groupBy('login,'category).count().show(100, false)"
   ]
  },
  {
   "cell_type": "code",
   "execution_count": 25,
   "id": "5b2a22ea",
   "metadata": {
    "ExecuteTime": {
     "end_time": "2021-09-28T11:53:33.973514Z",
     "start_time": "2021-09-28T11:52:58.242Z"
    }
   },
   "outputs": [
    {
     "name": "stdout",
     "output_type": "stream",
     "text": [
      "+-----+--------+-----+\n",
      "|login|category|count|\n",
      "+-----+--------+-----+\n",
      "| null|  search|    1|\n",
      "|sveta|  search|    7|\n",
      "|petya|    shop|    4|\n",
      "|vasya|  search|   14|\n",
      "| vika|  search|    8|\n",
      "|kolya|   sport|    4|\n",
      "+-----+--------+-----+\n",
      "\n"
     ]
    },
    {
     "data": {
      "text/plain": [
       "\u001b[36mw2\u001b[39m: \u001b[32morg\u001b[39m.\u001b[32mapache\u001b[39m.\u001b[32mspark\u001b[39m.\u001b[32msql\u001b[39m.\u001b[32mexpressions\u001b[39m.\u001b[32mWindowSpec\u001b[39m = org.apache.spark.sql.expressions.WindowSpec@3a10ec9d\n",
       "\u001b[36mpopular_category\u001b[39m: \u001b[32morg\u001b[39m.\u001b[32mapache\u001b[39m.\u001b[32mspark\u001b[39m.\u001b[32msql\u001b[39m.\u001b[32mpackage\u001b[39m.\u001b[32mDataFrame\u001b[39m = [login: string, category: string ... 1 more field]"
      ]
     },
     "execution_count": 25,
     "metadata": {},
     "output_type": "execute_result"
    }
   ],
   "source": [
    "val w2 = Window.partitionBy('login).orderBy('count.desc)\n",
    "val popular_category = logs_category.\n",
    "    groupBy('login,'category).count().\n",
    "    withColumn(\"rn\", row_number.over(w2)).\n",
    "    filter('rn===1).\n",
    "    drop('rn)\n",
    "\n",
    "popular_category.show"
   ]
  },
  {
   "cell_type": "code",
   "execution_count": 26,
   "id": "beb5d11f",
   "metadata": {
    "ExecuteTime": {
     "end_time": "2021-09-28T11:53:37.548836Z",
     "start_time": "2021-09-28T11:52:58.244Z"
    }
   },
   "outputs": [],
   "source": [
    "// popular_category.rdd.partitions.size\n",
    "\n",
    "popular_category.\n",
    "    coalesce(2).\n",
    "    write.\n",
    "    mode(\"overwrite\").\n",
    "    saveAsTable(\"popular_category\")"
   ]
  },
  {
   "cell_type": "markdown",
   "id": "3e672ae2",
   "metadata": {},
   "source": [
    "# Metrics"
   ]
  },
  {
   "cell_type": "code",
   "execution_count": 27,
   "id": "4677bb3f",
   "metadata": {
    "ExecuteTime": {
     "end_time": "2021-09-28T11:53:40.395635Z",
     "start_time": "2021-09-28T11:52:58.246Z"
    }
   },
   "outputs": [
    {
     "name": "stdout",
     "output_type": "stream",
     "text": [
      "hdfs:/user/sergey/clickstream/20191211/metrics.txt\n",
      "+----------+--------------------+-----+-----------+----------+\n",
      "| timestamp|                 url|login|region_code|        id|\n",
      "+----------+--------------------+-----+-----------+----------+\n",
      "|       abc|http://shop.ru/go...|petya|         59|         2|\n",
      "|1576022500|http://shop.ru/go...| vika|        abc|         6|\n",
      "|1576022635|    http://food-shop|kolya|         59|         9|\n",
      "|1576022900|http://sports-wik...|kolya|       1000|        10|\n",
      "|1576022400|                 123|vasya|         77|        14|\n",
      "|      null|    http://google.ru|sveta|         77|        18|\n",
      "|1576022412|                null|sveta|         77|        22|\n",
      "|1576022635|    http://food-shop|kolya|         59|        23|\n",
      "|1576022412|    http://google.ru| null|         77|        26|\n",
      "|1576022435|http://shop.ru/go...|petya|       null|        30|\n",
      "|1576022635|    http://food-shop|kolya|         59|        37|\n",
      "|1576022635|    http://food-shop|kolya|         59|8589934601|\n",
      "+----------+--------------------+-----+-----------+----------+\n",
      "\n"
     ]
    },
    {
     "data": {
      "text/plain": [
       "\u001b[36mnum_total\u001b[39m: \u001b[32mLong\u001b[39m = \u001b[32m56L\u001b[39m\n",
       "\u001b[36mnum_timestamp_today\u001b[39m: \u001b[32mLong\u001b[39m = \u001b[32m54L\u001b[39m\n",
       "\u001b[36mid_timestamp_not_today\u001b[39m: \u001b[32mArray\u001b[39m[\u001b[32mLong\u001b[39m] = \u001b[33mArray\u001b[39m()\n",
       "\u001b[36mnum_timestamps_not_today\u001b[39m: \u001b[32mInt\u001b[39m = \u001b[32m0\u001b[39m\n",
       "\u001b[36mid_not_timestamp\u001b[39m: \u001b[32mArray\u001b[39m[\u001b[32mLong\u001b[39m] = \u001b[33mArray\u001b[39m(\u001b[32m2L\u001b[39m, \u001b[32m18L\u001b[39m)\n",
       "\u001b[36mnum_not_timestamps\u001b[39m: \u001b[32mInt\u001b[39m = \u001b[32m2\u001b[39m\n",
       "\u001b[36mid_empty_login\u001b[39m: \u001b[32mArray\u001b[39m[\u001b[32mLong\u001b[39m] = \u001b[33mArray\u001b[39m(\u001b[32m26L\u001b[39m)\n",
       "\u001b[36mnum_empty_login\u001b[39m: \u001b[32mInt\u001b[39m = \u001b[32m1\u001b[39m\n",
       "\u001b[36mid_bad_url\u001b[39m: \u001b[32mArray\u001b[39m[\u001b[32mLong\u001b[39m] = \u001b[33mArray\u001b[39m(\u001b[32m9L\u001b[39m, \u001b[32m14L\u001b[39m, \u001b[32m22L\u001b[39m, \u001b[32m23L\u001b[39m, \u001b[32m37L\u001b[39m, \u001b[32m8589934601L\u001b[39m)\n",
       "\u001b[36mnum_bad_url\u001b[39m: \u001b[32mInt\u001b[39m = \u001b[32m6\u001b[39m\n",
       "\u001b[36mid_bad_region\u001b[39m: \u001b[32mArray\u001b[39m[\u001b[32mLong\u001b[39m] = \u001b[33mArray\u001b[39m(\u001b[32m6L\u001b[39m, \u001b[32m10L\u001b[39m, \u001b[32m30L\u001b[39m)\n",
       "\u001b[36mnum_bad_region\u001b[39m: \u001b[32mInt\u001b[39m = \u001b[32m3\u001b[39m\n",
       "\u001b[36mpath_metrics\u001b[39m: \u001b[32mString\u001b[39m = \u001b[32m\"hdfs:/user/sergey/clickstream/20191211/metrics.txt\"\u001b[39m\n",
       "\u001b[36mfs\u001b[39m: \u001b[32mFileSystem\u001b[39m = DFS[DFSClient[clientName=DFSClient_NONMAPREDUCE_1007489717_24, ugi=sergey (auth:SIMPLE)]]\n",
       "\u001b[36moutput\u001b[39m: \u001b[32mFSDataOutputStream\u001b[39m = FSDataOutputStream{wrappedStream=DFSOutputStream:blk_1073742359_1535}\n",
       "\u001b[36mos\u001b[39m: \u001b[32mBufferedOutputStream\u001b[39m = java.io.BufferedOutputStream@4fbba927\n",
       "\u001b[36mbad_logs_id\u001b[39m: \u001b[32mArray\u001b[39m[\u001b[32mLong\u001b[39m] = \u001b[33mArray\u001b[39m(\n",
       "  \u001b[32m2L\u001b[39m,\n",
       "  \u001b[32m18L\u001b[39m,\n",
       "  \u001b[32m26L\u001b[39m,\n",
       "  \u001b[32m9L\u001b[39m,\n",
       "  \u001b[32m14L\u001b[39m,\n",
       "  \u001b[32m22L\u001b[39m,\n",
       "  \u001b[32m23L\u001b[39m,\n",
       "  \u001b[32m37L\u001b[39m,\n",
       "  \u001b[32m8589934601L\u001b[39m,\n",
       "  \u001b[32m6L\u001b[39m,\n",
       "  \u001b[32m10L\u001b[39m,\n",
       "  \u001b[32m30L\u001b[39m\n",
       ")\n",
       "\u001b[36mbad_logs\u001b[39m: \u001b[32morg\u001b[39m.\u001b[32mapache\u001b[39m.\u001b[32mspark\u001b[39m.\u001b[32msql\u001b[39m.\u001b[32mpackage\u001b[39m.\u001b[32mDataFrame\u001b[39m = [timestamp: string, url: string ... 3 more fields]"
      ]
     },
     "execution_count": 27,
     "metadata": {},
     "output_type": "execute_result"
    }
   ],
   "source": [
    "// Total\n",
    "val num_total = raw_logs.count\n",
    "\n",
    "// Today timestamps\n",
    "val num_timestamp_today = raw_logs.filter('valid_today).count\n",
    "\n",
    "//  Not today\n",
    "val id_timestamp_not_today = raw_logs.filter('valid_not_today).select(\"id\").as[Long].collect\n",
    "val num_timestamps_not_today = id_timestamp_not_today.size\n",
    "\n",
    "// Not valid timestamp\n",
    "val id_not_timestamp = raw_logs.filter('not_timestamp).select(\"id\").as[Long].collect\n",
    "val num_not_timestamps = id_not_timestamp.size\n",
    "\n",
    "// Empty login\n",
    "val id_empty_login = raw_logs.filter('login.isNull).select(\"id\").as[Long].collect\n",
    "val num_empty_login = id_empty_login.size\n",
    "\n",
    "// \"Bad\" URL: the host is not in the lookup file\n",
    "val id_bad_url = logs_category.\n",
    "    filter('category.isNull).\n",
    "    select(\"id\").as[Long].collect\n",
    "val num_bad_url = id_bad_url.size\n",
    "\n",
    "// \"Bad\" region\n",
    "val id_bad_region = logs.\n",
    "    filter(('region_code.isNull) || ('region_code > 100) || ('region_code < 0 )).\n",
    "    select(\"id\").\n",
    "    as[Long].\n",
    "    collect\n",
    "val num_bad_region = id_bad_region.size\n",
    "\n",
    "val path_metrics = path + \"/\" + dt.replaceAll(\"-\",\"\") + \"/\" + \"metrics.txt\"\n",
    "println(path_metrics)\n",
    "val fs = FileSystem.get(spark.sparkContext.hadoopConfiguration)\n",
    "val output = fs.create(new Path(path_metrics))\n",
    "val os = new java.io.BufferedOutputStream(output)\n",
    "os.write(s\"\"\"\n",
    "      Total number of records is : $num_total\n",
    "Number of valid today timestamps : $num_timestamp_today\n",
    "  Number of not valid timestamps : $num_not_timestamps\n",
    "          Number of empty logins : $num_empty_login\n",
    "              Number of bad URLs : $num_bad_url\n",
    "       Number of bad region_code : $num_bad_region  \n",
    "\"\"\".getBytes(\"UTF-8\"))\n",
    "os.close()\n",
    "\n",
    "\n",
    "// Bad logs table\n",
    "val bad_logs_id = (id_timestamp_not_today ++ id_not_timestamp ++ id_empty_login ++ id_bad_url ++ id_bad_region)\n",
    "val bad_logs = raw_logs.filter('id.isin(bad_logs_id:_*)).select(\"timestamp\",\"url\",\"login\",\"region_code\",\"id\")\n",
    "bad_logs.\n",
    "    write.\n",
    "    mode(\"overwrite\").\n",
    "    saveAsTable(\"bad_data\")\n",
    "bad_logs.show"
   ]
  },
  {
   "cell_type": "markdown",
   "id": "52ff8a74",
   "metadata": {},
   "source": [
    "# Result"
   ]
  },
  {
   "cell_type": "code",
   "execution_count": 28,
   "id": "c0c3138b",
   "metadata": {
    "ExecuteTime": {
     "end_time": "2021-09-28T11:53:40.556300Z",
     "start_time": "2021-09-28T11:52:58.248Z"
    }
   },
   "outputs": [
    {
     "name": "stdout",
     "output_type": "stream",
     "text": [
      "+--------+----------------+-----------+\n",
      "|database|       tableName|isTemporary|\n",
      "+--------+----------------+-----------+\n",
      "|  rostel|        bad_data|      false|\n",
      "|  rostel|   first_session|      false|\n",
      "|  rostel|        logs_mrf|      false|\n",
      "|  rostel|popular_category|      false|\n",
      "+--------+----------------+-----------+\n",
      "\n"
     ]
    }
   ],
   "source": [
    "spark.sql(\"show tables in rostel\").show()"
   ]
  }
 ],
 "metadata": {
  "kernelspec": {
   "display_name": "Scala 2.12",
   "language": "scala",
   "name": "scala"
  },
  "language_info": {
   "codemirror_mode": "text/x-scala",
   "file_extension": ".sc",
   "mimetype": "text/x-scala",
   "name": "scala",
   "nbconvert_exporter": "script",
   "version": "2.12.12"
  },
  "toc": {
   "base_numbering": 1,
   "nav_menu": {},
   "number_sections": true,
   "sideBar": true,
   "skip_h1_title": false,
   "title_cell": "Table of Contents",
   "title_sidebar": "Contents",
   "toc_cell": true,
   "toc_position": {},
   "toc_section_display": true,
   "toc_window_display": false
  }
 },
 "nbformat": 4,
 "nbformat_minor": 5
}
